{
 "cells": [
  {
   "cell_type": "code",
   "execution_count": 1,
   "metadata": {
    "collapsed": true
   },
   "outputs": [],
   "source": [
    "%matplotlib inline\n",
    "import matplotlib.pyplot as plt\n",
    "import seaborn; seaborn.set()  # set plot style\n",
    "import pandas as pd\n",
    "import numpy as np"
   ]
  },
  {
   "cell_type": "code",
   "execution_count": 2,
   "metadata": {
    "collapsed": true
   },
   "outputs": [],
   "source": [
    "oof = pd.read_csv('data/mljar-oof-predictions-KRreo0lVz9Jp.csv')"
   ]
  },
  {
   "cell_type": "code",
   "execution_count": 3,
   "metadata": {
    "collapsed": false
   },
   "outputs": [],
   "source": [
    "# get \n",
    "df = pd.read_csv('data/ML_ICO_Sheet.csv')\n",
    "df = df[~pd.isnull(df.Enter_CMC)]\n",
    "df.reset_index(inplace=True)\n",
    "df['Max_CMC_x'] = df['Max_CMC']/df['ICO_Price']\n",
    "df['OOF_Prediction'] = np.exp(oof.Prediction)\n",
    "df.sort_values('OOF_Prediction', inplace=True, ascending=False)\n",
    "df[['ICO_Name', 'Max_CMC', 'ICO_Price', 'Max_CMC_x', 'OOF_Prediction']].to_csv('data/predictions_for_old_ICOs.csv', index=False)"
   ]
  },
  {
   "cell_type": "code",
   "execution_count": 4,
   "metadata": {
    "collapsed": false
   },
   "outputs": [],
   "source": [
    "# test data - no coinmarketcap.com info\n",
    "df = pd.read_csv('data/ML_ICO_Sheet.csv')\n",
    "df = df[pd.isnull(df.Enter_CMC)]\n",
    "df.reset_index(inplace=True)\n",
    "df.to_csv('data/test_data.csv', index=False)"
   ]
  }
 ],
 "metadata": {
  "kernelspec": {
   "display_name": "Python 2",
   "language": "python",
   "name": "python2"
  },
  "language_info": {
   "codemirror_mode": {
    "name": "ipython",
    "version": 2
   },
   "file_extension": ".py",
   "mimetype": "text/x-python",
   "name": "python",
   "nbconvert_exporter": "python",
   "pygments_lexer": "ipython2",
   "version": "2.7.6"
  }
 },
 "nbformat": 4,
 "nbformat_minor": 2
}
